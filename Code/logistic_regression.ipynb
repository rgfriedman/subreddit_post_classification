{
 "cells": [
  {
   "cell_type": "code",
   "execution_count": 1,
   "id": "273711ed",
   "metadata": {},
   "outputs": [],
   "source": [
    "# imports\n",
    "\n",
    "import pandas as pd\n",
    "import numpy as np\n",
    "import matplotlib.pyplot as plt\n",
    "from sklearn.linear_model import LogisticRegression\n",
    "from sklearn.feature_extraction.text import CountVectorizer\n",
    "from sklearn.model_selection import train_test_split, cross_val_score, GridSearchCV, RandomizedSearchCV\n",
    "from sklearn.pipeline import Pipeline\n",
    "from scipy.stats import uniform, loguniform\n",
    "from sklearn.preprocessing import StandardScaler"
   ]
  },
  {
   "cell_type": "code",
   "execution_count": 24,
   "id": "52ca0d8d",
   "metadata": {},
   "outputs": [],
   "source": [
    "#read in cleaned data\n",
    "\n",
    "df = pd.read_csv('../Data/cleaned.csv')"
   ]
  },
  {
   "cell_type": "code",
   "execution_count": 25,
   "id": "7dd735a6",
   "metadata": {},
   "outputs": [
    {
     "data": {
      "text/html": [
       "<div>\n",
       "<style scoped>\n",
       "    .dataframe tbody tr th:only-of-type {\n",
       "        vertical-align: middle;\n",
       "    }\n",
       "\n",
       "    .dataframe tbody tr th {\n",
       "        vertical-align: top;\n",
       "    }\n",
       "\n",
       "    .dataframe thead th {\n",
       "        text-align: right;\n",
       "    }\n",
       "</style>\n",
       "<table border=\"1\" class=\"dataframe\">\n",
       "  <thead>\n",
       "    <tr style=\"text-align: right;\">\n",
       "      <th></th>\n",
       "      <th>title</th>\n",
       "      <th>subreddit</th>\n",
       "    </tr>\n",
       "  </thead>\n",
       "  <tbody>\n",
       "    <tr>\n",
       "      <th>0</th>\n",
       "      <td>women of reddit when you are in a relationship...</td>\n",
       "      <td>1</td>\n",
       "    </tr>\n",
       "    <tr>\n",
       "      <th>1</th>\n",
       "      <td>do you have a hot take what is it</td>\n",
       "      <td>1</td>\n",
       "    </tr>\n",
       "    <tr>\n",
       "      <th>2</th>\n",
       "      <td>why do you cry so much over little things</td>\n",
       "      <td>1</td>\n",
       "    </tr>\n",
       "    <tr>\n",
       "      <th>3</th>\n",
       "      <td>as an adult how do you make more female friends</td>\n",
       "      <td>1</td>\n",
       "    </tr>\n",
       "    <tr>\n",
       "      <th>4</th>\n",
       "      <td>which 3rd party reddit app do you use and what...</td>\n",
       "      <td>1</td>\n",
       "    </tr>\n",
       "  </tbody>\n",
       "</table>\n",
       "</div>"
      ],
      "text/plain": [
       "                                               title  subreddit\n",
       "0  women of reddit when you are in a relationship...          1\n",
       "1                  do you have a hot take what is it          1\n",
       "2          why do you cry so much over little things          1\n",
       "3    as an adult how do you make more female friends          1\n",
       "4  which 3rd party reddit app do you use and what...          1"
      ]
     },
     "execution_count": 25,
     "metadata": {},
     "output_type": "execute_result"
    }
   ],
   "source": [
    "df.head()"
   ]
  },
  {
   "cell_type": "code",
   "execution_count": 26,
   "id": "4cbb3c5f",
   "metadata": {},
   "outputs": [
    {
     "data": {
      "text/plain": [
       "(90000, 2)"
      ]
     },
     "execution_count": 26,
     "metadata": {},
     "output_type": "execute_result"
    }
   ],
   "source": [
    "df.shape"
   ]
  },
  {
   "cell_type": "code",
   "execution_count": 5,
   "id": "2afd5f91",
   "metadata": {},
   "outputs": [
    {
     "data": {
      "text/plain": [
       "0    0.5\n",
       "1    0.5\n",
       "Name: subreddit, dtype: float64"
      ]
     },
     "execution_count": 5,
     "metadata": {},
     "output_type": "execute_result"
    }
   ],
   "source": [
    "#baseline score\n",
    "\n",
    "df['subreddit'].value_counts(normalize=True)"
   ]
  },
  {
   "cell_type": "code",
   "execution_count": 6,
   "id": "26503286",
   "metadata": {},
   "outputs": [],
   "source": [
    "#set variables for modeling\n",
    "\n",
    "X = df['title']\n",
    "\n",
    "y = df['subreddit']"
   ]
  },
  {
   "cell_type": "code",
   "execution_count": 7,
   "id": "9ca5fd52",
   "metadata": {},
   "outputs": [],
   "source": [
    "#train test split for model evaluation\n",
    "\n",
    "X_train, X_test, y_train, y_test = train_test_split(X, y, stratify=y)"
   ]
  },
  {
   "cell_type": "code",
   "execution_count": 42,
   "id": "e18b01aa",
   "metadata": {},
   "outputs": [],
   "source": [
    "#build pipeline for random gridsearch\n",
    "\n",
    "pipe = Pipeline([\n",
    "    ('cvec', CountVectorizer()),\n",
    "    ('logreg', LogisticRegression(solver = 'saga', max_iter=2000))\n",
    "])"
   ]
  },
  {
   "cell_type": "code",
   "execution_count": 43,
   "id": "0b0174ca",
   "metadata": {},
   "outputs": [],
   "source": [
    "pipe_params = {\n",
    "    'cvec__max_features':[7_000, 10_000],\n",
    "    'cvec__stop_words'  :[None, 'english'],\n",
    "    'cvec__ngram_range' :[(1,1), (1,2)],\n",
    "    'logreg__C'         : (uniform(.01, 1)),\n",
    "    'logreg__penalty'   :['none', 'l1','l2']\n",
    "}\n",
    "\n"
   ]
  },
  {
   "cell_type": "code",
   "execution_count": 44,
   "id": "f4d2c020",
   "metadata": {},
   "outputs": [],
   "source": [
    "rs = RandomizedSearchCV(estimator = pipe,\n",
    "                     param_distributions = pipe_params,\n",
    "                     n_jobs = -1,\n",
    "                     cv = 5)"
   ]
  },
  {
   "cell_type": "code",
   "execution_count": 45,
   "id": "e5cc10f7",
   "metadata": {},
   "outputs": [
    {
     "data": {
      "text/plain": [
       "RandomizedSearchCV(cv=5,\n",
       "                   estimator=Pipeline(steps=[('cvec', CountVectorizer()),\n",
       "                                             ('logreg',\n",
       "                                              LogisticRegression(max_iter=2000,\n",
       "                                                                 solver='saga'))]),\n",
       "                   n_jobs=-1,\n",
       "                   param_distributions={'cvec__max_features': [7000, 10000],\n",
       "                                        'cvec__ngram_range': [(1, 1), (1, 2)],\n",
       "                                        'cvec__stop_words': [None, 'english'],\n",
       "                                        'logreg__C': <scipy.stats._distn_infrastructure.rv_frozen object at 0x0000015D3E057A00>,\n",
       "                                        'logreg__penalty': ['none', 'l1',\n",
       "                                                            'l2']})"
      ]
     },
     "execution_count": 45,
     "metadata": {},
     "output_type": "execute_result"
    }
   ],
   "source": [
    "rs.fit(X_train, y_train)"
   ]
  },
  {
   "cell_type": "code",
   "execution_count": 46,
   "id": "268fb7b6",
   "metadata": {},
   "outputs": [
    {
     "name": "stdout",
     "output_type": "stream",
     "text": [
      "training score:  0.8069481481481482\n",
      "testing score: 0.7277333333333333\n"
     ]
    }
   ],
   "source": [
    "print(f'training score:  {rs.score(X_train, y_train)}')\n",
    "\n",
    "print(f'testing score: {rs.score(X_test, y_test)}')"
   ]
  },
  {
   "cell_type": "code",
   "execution_count": 47,
   "id": "537a9d6d",
   "metadata": {
    "scrolled": true
   },
   "outputs": [
    {
     "data": {
      "text/plain": [
       "{'cvec__max_features': 10000,\n",
       " 'cvec__ngram_range': (1, 2),\n",
       " 'cvec__stop_words': None,\n",
       " 'logreg__C': 0.9075883331227518,\n",
       " 'logreg__penalty': 'l2'}"
      ]
     },
     "execution_count": 47,
     "metadata": {},
     "output_type": "execute_result"
    }
   ],
   "source": [
    "rs.best_params_"
   ]
  },
  {
   "cell_type": "code",
   "execution_count": null,
   "id": "da617888",
   "metadata": {},
   "outputs": [],
   "source": [
    "# This shows the regression model is very overfit on my training data and not performing as well on unseen data. \n",
    "# It is doing better than the baseline, but I will select another model for production.\n",
    "# It's interesting to see the best paramerters selected in the grid search- I did not expect no stop words to do the best."
   ]
  }
 ],
 "metadata": {
  "kernelspec": {
   "display_name": "Python 3",
   "language": "python",
   "name": "python3"
  },
  "language_info": {
   "codemirror_mode": {
    "name": "ipython",
    "version": 3
   },
   "file_extension": ".py",
   "mimetype": "text/x-python",
   "name": "python",
   "nbconvert_exporter": "python",
   "pygments_lexer": "ipython3",
   "version": "3.8.8"
  }
 },
 "nbformat": 4,
 "nbformat_minor": 5
}

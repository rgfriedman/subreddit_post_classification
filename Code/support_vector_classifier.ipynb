{
 "cells": [
  {
   "cell_type": "code",
   "execution_count": 1,
   "id": "4a426488",
   "metadata": {},
   "outputs": [],
   "source": [
    "#imports\n",
    "\n",
    "import numpy as np\n",
    "import pandas as pd\n",
    "from sklearn.preprocessing import StandardScaler\n",
    "from sklearn.model_selection import GridSearchCV, train_test_split, RandomizedSearchCV\n",
    "from sklearn.pipeline import Pipeline\n",
    "from sklearn.feature_extraction.text import CountVectorizer\n",
    "from sklearn.svm import SVC"
   ]
  },
  {
   "cell_type": "code",
   "execution_count": 2,
   "id": "8562a9f2",
   "metadata": {},
   "outputs": [
    {
     "data": {
      "text/html": [
       "<div>\n",
       "<style scoped>\n",
       "    .dataframe tbody tr th:only-of-type {\n",
       "        vertical-align: middle;\n",
       "    }\n",
       "\n",
       "    .dataframe tbody tr th {\n",
       "        vertical-align: top;\n",
       "    }\n",
       "\n",
       "    .dataframe thead th {\n",
       "        text-align: right;\n",
       "    }\n",
       "</style>\n",
       "<table border=\"1\" class=\"dataframe\">\n",
       "  <thead>\n",
       "    <tr style=\"text-align: right;\">\n",
       "      <th></th>\n",
       "      <th>title</th>\n",
       "      <th>subreddit</th>\n",
       "    </tr>\n",
       "  </thead>\n",
       "  <tbody>\n",
       "    <tr>\n",
       "      <th>0</th>\n",
       "      <td>women of reddit when you are in a relationship...</td>\n",
       "      <td>1</td>\n",
       "    </tr>\n",
       "    <tr>\n",
       "      <th>1</th>\n",
       "      <td>do you have a hot take what is it</td>\n",
       "      <td>1</td>\n",
       "    </tr>\n",
       "    <tr>\n",
       "      <th>2</th>\n",
       "      <td>why do you cry so much over little things</td>\n",
       "      <td>1</td>\n",
       "    </tr>\n",
       "    <tr>\n",
       "      <th>3</th>\n",
       "      <td>as an adult how do you make more female friends</td>\n",
       "      <td>1</td>\n",
       "    </tr>\n",
       "    <tr>\n",
       "      <th>4</th>\n",
       "      <td>which 3rd party reddit app do you use and what...</td>\n",
       "      <td>1</td>\n",
       "    </tr>\n",
       "  </tbody>\n",
       "</table>\n",
       "</div>"
      ],
      "text/plain": [
       "                                               title  subreddit\n",
       "0  women of reddit when you are in a relationship...          1\n",
       "1                  do you have a hot take what is it          1\n",
       "2          why do you cry so much over little things          1\n",
       "3    as an adult how do you make more female friends          1\n",
       "4  which 3rd party reddit app do you use and what...          1"
      ]
     },
     "execution_count": 2,
     "metadata": {},
     "output_type": "execute_result"
    }
   ],
   "source": [
    "#read in cleaned data\n",
    "\n",
    "df = pd.read_csv('../Data/cleaned.csv')\n",
    "\n",
    "df.head()"
   ]
  },
  {
   "cell_type": "code",
   "execution_count": 3,
   "id": "a1f8e118",
   "metadata": {},
   "outputs": [
    {
     "data": {
      "text/plain": [
       "0    0.5\n",
       "1    0.5\n",
       "Name: subreddit, dtype: float64"
      ]
     },
     "execution_count": 3,
     "metadata": {},
     "output_type": "execute_result"
    }
   ],
   "source": [
    "#baseline score\n",
    "\n",
    "df['subreddit'].value_counts(normalize=True)"
   ]
  },
  {
   "cell_type": "code",
   "execution_count": 6,
   "id": "e8def52b",
   "metadata": {},
   "outputs": [],
   "source": [
    "#set variables for modeling\n",
    "\n",
    "X = df['title']\n",
    "\n",
    "y = df['subreddit']\n",
    "\n",
    "#train test split for model evaluation\n",
    "\n",
    "X_train, X_test, y_train, y_test = train_test_split(X, y, stratify=y)"
   ]
  },
  {
   "cell_type": "code",
   "execution_count": 7,
   "id": "43d1b65a",
   "metadata": {},
   "outputs": [],
   "source": [
    "cvec = CountVectorizer(max_features = 10_000)"
   ]
  },
  {
   "cell_type": "code",
   "execution_count": 8,
   "id": "a603ffef",
   "metadata": {},
   "outputs": [],
   "source": [
    "X_train = cvec.fit_transform(X_train)\n",
    "\n",
    "X_test = cvec.transform(X_test)"
   ]
  },
  {
   "cell_type": "code",
   "execution_count": 9,
   "id": "35b013b2",
   "metadata": {},
   "outputs": [],
   "source": [
    "#scale with support vector classification models\n",
    "\n",
    "ss = StandardScaler(with_mean=False)"
   ]
  },
  {
   "cell_type": "code",
   "execution_count": 10,
   "id": "2ec04e90",
   "metadata": {},
   "outputs": [],
   "source": [
    "X_train = ss.fit_transform(X_train)\n",
    "\n",
    "X_test = ss.transform(X_test)"
   ]
  },
  {
   "cell_type": "code",
   "execution_count": 11,
   "id": "f0467247",
   "metadata": {},
   "outputs": [],
   "source": [
    "svc = SVC()"
   ]
  },
  {
   "cell_type": "code",
   "execution_count": 12,
   "id": "0abf606f",
   "metadata": {},
   "outputs": [],
   "source": [
    "\n",
    "    #'svc__C' : (np.linspace(0.0001, 1, 20)),\n",
    "    #'svc__kernel'   : ['rbf', 'poly', 'sigmoid']\n"
   ]
  },
  {
   "cell_type": "code",
   "execution_count": 12,
   "id": "4ad3b0f5",
   "metadata": {},
   "outputs": [
    {
     "data": {
      "text/plain": [
       "SVC()"
      ]
     },
     "execution_count": 12,
     "metadata": {},
     "output_type": "execute_result"
    }
   ],
   "source": [
    "svc.fit(X_train, y_train)"
   ]
  },
  {
   "cell_type": "code",
   "execution_count": 13,
   "id": "38a58eaa",
   "metadata": {},
   "outputs": [
    {
     "name": "stdout",
     "output_type": "stream",
     "text": [
      "training score:  0.832\n",
      "testing score: 0.6753777777777777\n"
     ]
    }
   ],
   "source": [
    "print(f'training score:  {svc.score(X_train, y_train)}')\n",
    "\n",
    "print(f'testing score: {svc.score(X_test, y_test)}')"
   ]
  },
  {
   "cell_type": "code",
   "execution_count": null,
   "id": "ff5f09a6",
   "metadata": {},
   "outputs": [],
   "source": [
    "# The difference in training and testing scores show that this model is not performing well on unseen data.\n",
    "# This model is doing worse on unseen data than some of the others, and it takes a while to run. \n",
    "# I will not be selecting this model for my produciton model."
   ]
  }
 ],
 "metadata": {
  "kernelspec": {
   "display_name": "Python 3",
   "language": "python",
   "name": "python3"
  },
  "language_info": {
   "codemirror_mode": {
    "name": "ipython",
    "version": 3
   },
   "file_extension": ".py",
   "mimetype": "text/x-python",
   "name": "python",
   "nbconvert_exporter": "python",
   "pygments_lexer": "ipython3",
   "version": "3.8.8"
  }
 },
 "nbformat": 4,
 "nbformat_minor": 5
}

{
 "cells": [
  {
   "cell_type": "code",
   "execution_count": 1,
   "id": "358371e4",
   "metadata": {},
   "outputs": [],
   "source": [
    "#imports\n",
    "\n",
    "import pandas as pd\n",
    "import numpy as np\n",
    "import seaborn as sns\n",
    "import matplotlib.pyplot as plt\n",
    "import nltk\n",
    "from nltk.tokenize import sent_tokenize, word_tokenize, RegexpTokenizer\n",
    "from nltk.stem import WordNetLemmatizer\n",
    "from nltk.stem.porter import PorterStemmer\n",
    "from nltk.corpus import stopwords\n",
    "from sklearn.feature_extraction.text import CountVectorizer, TfidfVectorizer"
   ]
  },
  {
   "cell_type": "code",
   "execution_count": 2,
   "id": "f0e1c002",
   "metadata": {},
   "outputs": [],
   "source": [
    "#data cleaning function\n",
    "\n",
    "\n",
    "def clean_me(df):\n",
    "    \n",
    "    #drop self text column\n",
    "    df = df.drop(columns = 'selftext')\n",
    "    \n",
    "    #all lowercase columns\n",
    "    df['title']= df['title'].str.lower()\n",
    "    \n",
    "    #drop dupes\n",
    "    df.drop_duplicates(subset = ['title', 'author', 'subreddit'], keep='last', inplace=True)    \n",
    "    \n",
    "    #remove auto mod author posts \n",
    "    df = df[~(df['author']=='AutoModerator')]\n",
    "    \n",
    "    #change to readable time\n",
    "    df['created_utc'] = pd.to_datetime(df['created_utc'], unit='s')\n",
    "    \n",
    "    #okenize\n",
    "    tokenizer = RegexpTokenizer(\"\\w+\")\n",
    "    df['title'] = df.apply(lambda row: ' '.join(tokenizer.tokenize(row['title'])), axis=1)\n",
    "    \n",
    "    #remove entries with links\n",
    "    df = df[~(df['title'].str.contains('https'))]\n",
    "    \n",
    "    #word count column\n",
    "    df['title_word_count'] = [len(i.split() ) for i in df['title'].tolist() ]\n",
    "    \n",
    "    #character count column\n",
    "    df['character_word_count'] = [len(i) for i in df['title'].tolist() ]\n",
    "    \n",
    "    #keep posts with greater than 2 words in title\n",
    "    df = df[(df['title_word_count']>2)]\n",
    "    \n",
    "    #change target variable to binary\n",
    "    df['subreddit'] = np.where(df['subreddit'] == 'AskWomen', 1, 0)\n",
    "    \n",
    "    return df\n",
    "\n",
    "\n",
    "#referenced how to tokenize in new column here\n",
    "#https://stackoverflow.com/questions/33098040/how-to-use-word-tokenize-in-data-frame"
   ]
  },
  {
   "cell_type": "code",
   "execution_count": 3,
   "id": "1b44782c",
   "metadata": {},
   "outputs": [
    {
     "data": {
      "text/html": [
       "<div>\n",
       "<style scoped>\n",
       "    .dataframe tbody tr th:only-of-type {\n",
       "        vertical-align: middle;\n",
       "    }\n",
       "\n",
       "    .dataframe tbody tr th {\n",
       "        vertical-align: top;\n",
       "    }\n",
       "\n",
       "    .dataframe thead th {\n",
       "        text-align: right;\n",
       "    }\n",
       "</style>\n",
       "<table border=\"1\" class=\"dataframe\">\n",
       "  <thead>\n",
       "    <tr style=\"text-align: right;\">\n",
       "      <th></th>\n",
       "      <th>title</th>\n",
       "      <th>author</th>\n",
       "      <th>created_utc</th>\n",
       "      <th>selftext</th>\n",
       "      <th>subreddit</th>\n",
       "    </tr>\n",
       "  </thead>\n",
       "  <tbody>\n",
       "    <tr>\n",
       "      <th>0</th>\n",
       "      <td>Women of Reddit when you are in a relationship...</td>\n",
       "      <td>Zealousideal-Ad1181</td>\n",
       "      <td>1627412765</td>\n",
       "      <td>NaN</td>\n",
       "      <td>AskWomen</td>\n",
       "    </tr>\n",
       "    <tr>\n",
       "      <th>1</th>\n",
       "      <td>Do you have a hot take? What is it?</td>\n",
       "      <td>thats_riddikulus</td>\n",
       "      <td>1627411895</td>\n",
       "      <td>NaN</td>\n",
       "      <td>AskWomen</td>\n",
       "    </tr>\n",
       "    <tr>\n",
       "      <th>2</th>\n",
       "      <td>Why do you cry so much over little things?</td>\n",
       "      <td>kilmeplease666</td>\n",
       "      <td>1627411794</td>\n",
       "      <td>And why are you so open about crying?</td>\n",
       "      <td>AskWomen</td>\n",
       "    </tr>\n",
       "    <tr>\n",
       "      <th>3</th>\n",
       "      <td>As an adult, how do you make more female friends?</td>\n",
       "      <td>shesagoodfella</td>\n",
       "      <td>1627410790</td>\n",
       "      <td>Just curious if you made good friends later in...</td>\n",
       "      <td>AskWomen</td>\n",
       "    </tr>\n",
       "    <tr>\n",
       "      <th>4</th>\n",
       "      <td>Which 3rd party Reddit app do you use and what...</td>\n",
       "      <td>Querious_George</td>\n",
       "      <td>1627410402</td>\n",
       "      <td>NaN</td>\n",
       "      <td>AskWomen</td>\n",
       "    </tr>\n",
       "  </tbody>\n",
       "</table>\n",
       "</div>"
      ],
      "text/plain": [
       "                                               title               author  \\\n",
       "0  Women of Reddit when you are in a relationship...  Zealousideal-Ad1181   \n",
       "1                Do you have a hot take? What is it?     thats_riddikulus   \n",
       "2         Why do you cry so much over little things?       kilmeplease666   \n",
       "3  As an adult, how do you make more female friends?       shesagoodfella   \n",
       "4  Which 3rd party Reddit app do you use and what...      Querious_George   \n",
       "\n",
       "   created_utc                                           selftext subreddit  \n",
       "0   1627412765                                                NaN  AskWomen  \n",
       "1   1627411895                                                NaN  AskWomen  \n",
       "2   1627411794              And why are you so open about crying?  AskWomen  \n",
       "3   1627410790  Just curious if you made good friends later in...  AskWomen  \n",
       "4   1627410402                                                NaN  AskWomen  "
      ]
     },
     "execution_count": 3,
     "metadata": {},
     "output_type": "execute_result"
    }
   ],
   "source": [
    "#read in ask women data\n",
    "\n",
    "women = pd.read_csv('../Data/women.csv')\n",
    "\n",
    "women.head()"
   ]
  },
  {
   "cell_type": "code",
   "execution_count": 4,
   "id": "4d2a6719",
   "metadata": {},
   "outputs": [],
   "source": [
    "#apply cleaning function to dataset\n",
    "\n",
    "women = clean_me(women)"
   ]
  },
  {
   "cell_type": "code",
   "execution_count": 5,
   "id": "06d4b9fb",
   "metadata": {},
   "outputs": [
    {
     "data": {
      "text/plain": [
       "(45353, 6)"
      ]
     },
     "execution_count": 5,
     "metadata": {},
     "output_type": "execute_result"
    }
   ],
   "source": [
    "women.shape"
   ]
  },
  {
   "cell_type": "code",
   "execution_count": 6,
   "id": "3c2b2009",
   "metadata": {
    "scrolled": true
   },
   "outputs": [
    {
     "data": {
      "text/html": [
       "<div>\n",
       "<style scoped>\n",
       "    .dataframe tbody tr th:only-of-type {\n",
       "        vertical-align: middle;\n",
       "    }\n",
       "\n",
       "    .dataframe tbody tr th {\n",
       "        vertical-align: top;\n",
       "    }\n",
       "\n",
       "    .dataframe thead th {\n",
       "        text-align: right;\n",
       "    }\n",
       "</style>\n",
       "<table border=\"1\" class=\"dataframe\">\n",
       "  <thead>\n",
       "    <tr style=\"text-align: right;\">\n",
       "      <th></th>\n",
       "      <th>title</th>\n",
       "      <th>author</th>\n",
       "      <th>created_utc</th>\n",
       "      <th>subreddit</th>\n",
       "      <th>title_word_count</th>\n",
       "      <th>character_word_count</th>\n",
       "    </tr>\n",
       "  </thead>\n",
       "  <tbody>\n",
       "    <tr>\n",
       "      <th>0</th>\n",
       "      <td>women of reddit when you are in a relationship...</td>\n",
       "      <td>Zealousideal-Ad1181</td>\n",
       "      <td>2021-07-27 19:06:05</td>\n",
       "      <td>1</td>\n",
       "      <td>26</td>\n",
       "      <td>130</td>\n",
       "    </tr>\n",
       "    <tr>\n",
       "      <th>1</th>\n",
       "      <td>do you have a hot take what is it</td>\n",
       "      <td>thats_riddikulus</td>\n",
       "      <td>2021-07-27 18:51:35</td>\n",
       "      <td>1</td>\n",
       "      <td>9</td>\n",
       "      <td>33</td>\n",
       "    </tr>\n",
       "    <tr>\n",
       "      <th>2</th>\n",
       "      <td>why do you cry so much over little things</td>\n",
       "      <td>kilmeplease666</td>\n",
       "      <td>2021-07-27 18:49:54</td>\n",
       "      <td>1</td>\n",
       "      <td>9</td>\n",
       "      <td>41</td>\n",
       "    </tr>\n",
       "    <tr>\n",
       "      <th>3</th>\n",
       "      <td>as an adult how do you make more female friends</td>\n",
       "      <td>shesagoodfella</td>\n",
       "      <td>2021-07-27 18:33:10</td>\n",
       "      <td>1</td>\n",
       "      <td>10</td>\n",
       "      <td>47</td>\n",
       "    </tr>\n",
       "    <tr>\n",
       "      <th>4</th>\n",
       "      <td>which 3rd party reddit app do you use and what...</td>\n",
       "      <td>Querious_George</td>\n",
       "      <td>2021-07-27 18:26:42</td>\n",
       "      <td>1</td>\n",
       "      <td>20</td>\n",
       "      <td>94</td>\n",
       "    </tr>\n",
       "  </tbody>\n",
       "</table>\n",
       "</div>"
      ],
      "text/plain": [
       "                                               title               author  \\\n",
       "0  women of reddit when you are in a relationship...  Zealousideal-Ad1181   \n",
       "1                  do you have a hot take what is it     thats_riddikulus   \n",
       "2          why do you cry so much over little things       kilmeplease666   \n",
       "3    as an adult how do you make more female friends       shesagoodfella   \n",
       "4  which 3rd party reddit app do you use and what...      Querious_George   \n",
       "\n",
       "          created_utc  subreddit  title_word_count  character_word_count  \n",
       "0 2021-07-27 19:06:05          1                26                   130  \n",
       "1 2021-07-27 18:51:35          1                 9                    33  \n",
       "2 2021-07-27 18:49:54          1                 9                    41  \n",
       "3 2021-07-27 18:33:10          1                10                    47  \n",
       "4 2021-07-27 18:26:42          1                20                    94  "
      ]
     },
     "execution_count": 6,
     "metadata": {},
     "output_type": "execute_result"
    }
   ],
   "source": [
    "women.head()"
   ]
  },
  {
   "cell_type": "code",
   "execution_count": 7,
   "id": "2d119c92",
   "metadata": {},
   "outputs": [],
   "source": [
    "women = women.iloc[ 0:45000, : ]"
   ]
  },
  {
   "cell_type": "code",
   "execution_count": 8,
   "id": "98f2ad3e",
   "metadata": {},
   "outputs": [
    {
     "data": {
      "text/plain": [
       "(45000, 6)"
      ]
     },
     "execution_count": 8,
     "metadata": {},
     "output_type": "execute_result"
    }
   ],
   "source": [
    "women.shape"
   ]
  },
  {
   "cell_type": "code",
   "execution_count": 9,
   "id": "291efed7",
   "metadata": {},
   "outputs": [
    {
     "data": {
      "text/html": [
       "<div>\n",
       "<style scoped>\n",
       "    .dataframe tbody tr th:only-of-type {\n",
       "        vertical-align: middle;\n",
       "    }\n",
       "\n",
       "    .dataframe tbody tr th {\n",
       "        vertical-align: top;\n",
       "    }\n",
       "\n",
       "    .dataframe thead th {\n",
       "        text-align: right;\n",
       "    }\n",
       "</style>\n",
       "<table border=\"1\" class=\"dataframe\">\n",
       "  <thead>\n",
       "    <tr style=\"text-align: right;\">\n",
       "      <th></th>\n",
       "      <th>title</th>\n",
       "      <th>author</th>\n",
       "      <th>created_utc</th>\n",
       "      <th>selftext</th>\n",
       "      <th>subreddit</th>\n",
       "    </tr>\n",
       "  </thead>\n",
       "  <tbody>\n",
       "    <tr>\n",
       "      <th>0</th>\n",
       "      <td>With a girl that you are interested in after a...</td>\n",
       "      <td>throwawayschoollllhw</td>\n",
       "      <td>1627412666</td>\n",
       "      <td>Both late 20s. Went on date with guy and he wa...</td>\n",
       "      <td>AskMen</td>\n",
       "    </tr>\n",
       "    <tr>\n",
       "      <th>1</th>\n",
       "      <td>Why are younger men getting erectile dysfuncti...</td>\n",
       "      <td>BlueMountainDace</td>\n",
       "      <td>1627412287</td>\n",
       "      <td>NaN</td>\n",
       "      <td>AskMen</td>\n",
       "    </tr>\n",
       "    <tr>\n",
       "      <th>2</th>\n",
       "      <td>What would you do if you did a DNA test and an...</td>\n",
       "      <td>MalekethsGhost</td>\n",
       "      <td>1627411817</td>\n",
       "      <td>I mean we all joke \"that I know of\" when asked...</td>\n",
       "      <td>AskMen</td>\n",
       "    </tr>\n",
       "    <tr>\n",
       "      <th>3</th>\n",
       "      <td>What are you’re deepest darkest fantasies?</td>\n",
       "      <td>FamousEscape2981</td>\n",
       "      <td>1627411654</td>\n",
       "      <td>NaN</td>\n",
       "      <td>AskMen</td>\n",
       "    </tr>\n",
       "    <tr>\n",
       "      <th>4</th>\n",
       "      <td>What do you find sexy about a women ?</td>\n",
       "      <td>FamousEscape2981</td>\n",
       "      <td>1627411586</td>\n",
       "      <td>NaN</td>\n",
       "      <td>AskMen</td>\n",
       "    </tr>\n",
       "  </tbody>\n",
       "</table>\n",
       "</div>"
      ],
      "text/plain": [
       "                                               title                author  \\\n",
       "0  With a girl that you are interested in after a...  throwawayschoollllhw   \n",
       "1  Why are younger men getting erectile dysfuncti...      BlueMountainDace   \n",
       "2  What would you do if you did a DNA test and an...        MalekethsGhost   \n",
       "3         What are you’re deepest darkest fantasies?      FamousEscape2981   \n",
       "4              What do you find sexy about a women ?      FamousEscape2981   \n",
       "\n",
       "   created_utc                                           selftext subreddit  \n",
       "0   1627412666  Both late 20s. Went on date with guy and he wa...    AskMen  \n",
       "1   1627412287                                                NaN    AskMen  \n",
       "2   1627411817  I mean we all joke \"that I know of\" when asked...    AskMen  \n",
       "3   1627411654                                                NaN    AskMen  \n",
       "4   1627411586                                                NaN    AskMen  "
      ]
     },
     "execution_count": 9,
     "metadata": {},
     "output_type": "execute_result"
    }
   ],
   "source": [
    "#read in ask men data\n",
    "\n",
    "men = pd.read_csv('../Data/men.csv')\n",
    "\n",
    "men.head()"
   ]
  },
  {
   "cell_type": "code",
   "execution_count": 10,
   "id": "f09f5c83",
   "metadata": {},
   "outputs": [],
   "source": [
    "#apply cleaning function to dataset\n",
    "\n",
    "men = clean_me(men)"
   ]
  },
  {
   "cell_type": "code",
   "execution_count": 11,
   "id": "2baf869d",
   "metadata": {},
   "outputs": [
    {
     "data": {
      "text/html": [
       "<div>\n",
       "<style scoped>\n",
       "    .dataframe tbody tr th:only-of-type {\n",
       "        vertical-align: middle;\n",
       "    }\n",
       "\n",
       "    .dataframe tbody tr th {\n",
       "        vertical-align: top;\n",
       "    }\n",
       "\n",
       "    .dataframe thead th {\n",
       "        text-align: right;\n",
       "    }\n",
       "</style>\n",
       "<table border=\"1\" class=\"dataframe\">\n",
       "  <thead>\n",
       "    <tr style=\"text-align: right;\">\n",
       "      <th></th>\n",
       "      <th>title</th>\n",
       "      <th>author</th>\n",
       "      <th>created_utc</th>\n",
       "      <th>subreddit</th>\n",
       "      <th>title_word_count</th>\n",
       "      <th>character_word_count</th>\n",
       "    </tr>\n",
       "  </thead>\n",
       "  <tbody>\n",
       "    <tr>\n",
       "      <th>0</th>\n",
       "      <td>with a girl that you are interested in after a...</td>\n",
       "      <td>throwawayschoollllhw</td>\n",
       "      <td>2021-07-27 19:04:26</td>\n",
       "      <td>0</td>\n",
       "      <td>25</td>\n",
       "      <td>108</td>\n",
       "    </tr>\n",
       "    <tr>\n",
       "      <th>1</th>\n",
       "      <td>why are younger men getting erectile dysfuncti...</td>\n",
       "      <td>BlueMountainDace</td>\n",
       "      <td>2021-07-27 18:58:07</td>\n",
       "      <td>0</td>\n",
       "      <td>9</td>\n",
       "      <td>59</td>\n",
       "    </tr>\n",
       "    <tr>\n",
       "      <th>2</th>\n",
       "      <td>what would you do if you did a dna test and an...</td>\n",
       "      <td>MalekethsGhost</td>\n",
       "      <td>2021-07-27 18:50:17</td>\n",
       "      <td>0</td>\n",
       "      <td>16</td>\n",
       "      <td>70</td>\n",
       "    </tr>\n",
       "    <tr>\n",
       "      <th>3</th>\n",
       "      <td>what are you re deepest darkest fantasies</td>\n",
       "      <td>FamousEscape2981</td>\n",
       "      <td>2021-07-27 18:47:34</td>\n",
       "      <td>0</td>\n",
       "      <td>7</td>\n",
       "      <td>41</td>\n",
       "    </tr>\n",
       "    <tr>\n",
       "      <th>4</th>\n",
       "      <td>what do you find sexy about a women</td>\n",
       "      <td>FamousEscape2981</td>\n",
       "      <td>2021-07-27 18:46:26</td>\n",
       "      <td>0</td>\n",
       "      <td>8</td>\n",
       "      <td>35</td>\n",
       "    </tr>\n",
       "  </tbody>\n",
       "</table>\n",
       "</div>"
      ],
      "text/plain": [
       "                                               title                author  \\\n",
       "0  with a girl that you are interested in after a...  throwawayschoollllhw   \n",
       "1  why are younger men getting erectile dysfuncti...      BlueMountainDace   \n",
       "2  what would you do if you did a dna test and an...        MalekethsGhost   \n",
       "3          what are you re deepest darkest fantasies      FamousEscape2981   \n",
       "4                what do you find sexy about a women      FamousEscape2981   \n",
       "\n",
       "          created_utc  subreddit  title_word_count  character_word_count  \n",
       "0 2021-07-27 19:04:26          0                25                   108  \n",
       "1 2021-07-27 18:58:07          0                 9                    59  \n",
       "2 2021-07-27 18:50:17          0                16                    70  \n",
       "3 2021-07-27 18:47:34          0                 7                    41  \n",
       "4 2021-07-27 18:46:26          0                 8                    35  "
      ]
     },
     "execution_count": 11,
     "metadata": {},
     "output_type": "execute_result"
    }
   ],
   "source": [
    "men.head()"
   ]
  },
  {
   "cell_type": "code",
   "execution_count": 12,
   "id": "a2a1fb10",
   "metadata": {},
   "outputs": [
    {
     "data": {
      "text/plain": [
       "(50267, 6)"
      ]
     },
     "execution_count": 12,
     "metadata": {},
     "output_type": "execute_result"
    }
   ],
   "source": [
    "men.shape"
   ]
  },
  {
   "cell_type": "code",
   "execution_count": 13,
   "id": "8ec7fa60",
   "metadata": {},
   "outputs": [],
   "source": [
    "men = men.iloc[ 0:45000 : ]"
   ]
  },
  {
   "cell_type": "code",
   "execution_count": 14,
   "id": "55a5aaae",
   "metadata": {},
   "outputs": [
    {
     "data": {
      "text/plain": [
       "(45000, 6)"
      ]
     },
     "execution_count": 14,
     "metadata": {},
     "output_type": "execute_result"
    }
   ],
   "source": [
    "men.shape"
   ]
  },
  {
   "cell_type": "code",
   "execution_count": 39,
   "id": "902b5d1a",
   "metadata": {},
   "outputs": [],
   "source": [
    "#create combine df with completely balanced classes"
   ]
  },
  {
   "cell_type": "code",
   "execution_count": 15,
   "id": "19f4af6c",
   "metadata": {},
   "outputs": [],
   "source": [
    "#create full df with balanced classes (45_000 posts in each)\n",
    "\n",
    "df = pd.concat([women, men])"
   ]
  },
  {
   "cell_type": "code",
   "execution_count": 16,
   "id": "36c6a07d",
   "metadata": {},
   "outputs": [
    {
     "data": {
      "text/html": [
       "<div>\n",
       "<style scoped>\n",
       "    .dataframe tbody tr th:only-of-type {\n",
       "        vertical-align: middle;\n",
       "    }\n",
       "\n",
       "    .dataframe tbody tr th {\n",
       "        vertical-align: top;\n",
       "    }\n",
       "\n",
       "    .dataframe thead th {\n",
       "        text-align: right;\n",
       "    }\n",
       "</style>\n",
       "<table border=\"1\" class=\"dataframe\">\n",
       "  <thead>\n",
       "    <tr style=\"text-align: right;\">\n",
       "      <th></th>\n",
       "      <th>title</th>\n",
       "      <th>author</th>\n",
       "      <th>created_utc</th>\n",
       "      <th>subreddit</th>\n",
       "      <th>title_word_count</th>\n",
       "      <th>character_word_count</th>\n",
       "    </tr>\n",
       "  </thead>\n",
       "  <tbody>\n",
       "    <tr>\n",
       "      <th>0</th>\n",
       "      <td>women of reddit when you are in a relationship...</td>\n",
       "      <td>Zealousideal-Ad1181</td>\n",
       "      <td>2021-07-27 19:06:05</td>\n",
       "      <td>1</td>\n",
       "      <td>26</td>\n",
       "      <td>130</td>\n",
       "    </tr>\n",
       "    <tr>\n",
       "      <th>1</th>\n",
       "      <td>do you have a hot take what is it</td>\n",
       "      <td>thats_riddikulus</td>\n",
       "      <td>2021-07-27 18:51:35</td>\n",
       "      <td>1</td>\n",
       "      <td>9</td>\n",
       "      <td>33</td>\n",
       "    </tr>\n",
       "    <tr>\n",
       "      <th>2</th>\n",
       "      <td>why do you cry so much over little things</td>\n",
       "      <td>kilmeplease666</td>\n",
       "      <td>2021-07-27 18:49:54</td>\n",
       "      <td>1</td>\n",
       "      <td>9</td>\n",
       "      <td>41</td>\n",
       "    </tr>\n",
       "    <tr>\n",
       "      <th>3</th>\n",
       "      <td>as an adult how do you make more female friends</td>\n",
       "      <td>shesagoodfella</td>\n",
       "      <td>2021-07-27 18:33:10</td>\n",
       "      <td>1</td>\n",
       "      <td>10</td>\n",
       "      <td>47</td>\n",
       "    </tr>\n",
       "    <tr>\n",
       "      <th>4</th>\n",
       "      <td>which 3rd party reddit app do you use and what...</td>\n",
       "      <td>Querious_George</td>\n",
       "      <td>2021-07-27 18:26:42</td>\n",
       "      <td>1</td>\n",
       "      <td>20</td>\n",
       "      <td>94</td>\n",
       "    </tr>\n",
       "  </tbody>\n",
       "</table>\n",
       "</div>"
      ],
      "text/plain": [
       "                                               title               author  \\\n",
       "0  women of reddit when you are in a relationship...  Zealousideal-Ad1181   \n",
       "1                  do you have a hot take what is it     thats_riddikulus   \n",
       "2          why do you cry so much over little things       kilmeplease666   \n",
       "3    as an adult how do you make more female friends       shesagoodfella   \n",
       "4  which 3rd party reddit app do you use and what...      Querious_George   \n",
       "\n",
       "          created_utc  subreddit  title_word_count  character_word_count  \n",
       "0 2021-07-27 19:06:05          1                26                   130  \n",
       "1 2021-07-27 18:51:35          1                 9                    33  \n",
       "2 2021-07-27 18:49:54          1                 9                    41  \n",
       "3 2021-07-27 18:33:10          1                10                    47  \n",
       "4 2021-07-27 18:26:42          1                20                    94  "
      ]
     },
     "execution_count": 16,
     "metadata": {},
     "output_type": "execute_result"
    }
   ],
   "source": [
    "df.head()"
   ]
  },
  {
   "cell_type": "code",
   "execution_count": 17,
   "id": "bd123668",
   "metadata": {},
   "outputs": [
    {
     "data": {
      "text/plain": [
       "(90000, 6)"
      ]
     },
     "execution_count": 17,
     "metadata": {},
     "output_type": "execute_result"
    }
   ],
   "source": [
    "df.shape"
   ]
  },
  {
   "cell_type": "code",
   "execution_count": 18,
   "id": "5b5b96bd",
   "metadata": {},
   "outputs": [],
   "source": [
    "#export cleaned data to put in model\n",
    "\n",
    "clean = df.drop(columns=['author', 'created_utc', 'title_word_count', 'character_word_count'])"
   ]
  },
  {
   "cell_type": "code",
   "execution_count": 19,
   "id": "37a8b92c",
   "metadata": {},
   "outputs": [
    {
     "data": {
      "text/html": [
       "<div>\n",
       "<style scoped>\n",
       "    .dataframe tbody tr th:only-of-type {\n",
       "        vertical-align: middle;\n",
       "    }\n",
       "\n",
       "    .dataframe tbody tr th {\n",
       "        vertical-align: top;\n",
       "    }\n",
       "\n",
       "    .dataframe thead th {\n",
       "        text-align: right;\n",
       "    }\n",
       "</style>\n",
       "<table border=\"1\" class=\"dataframe\">\n",
       "  <thead>\n",
       "    <tr style=\"text-align: right;\">\n",
       "      <th></th>\n",
       "      <th>title</th>\n",
       "      <th>subreddit</th>\n",
       "    </tr>\n",
       "  </thead>\n",
       "  <tbody>\n",
       "    <tr>\n",
       "      <th>0</th>\n",
       "      <td>women of reddit when you are in a relationship...</td>\n",
       "      <td>1</td>\n",
       "    </tr>\n",
       "    <tr>\n",
       "      <th>1</th>\n",
       "      <td>do you have a hot take what is it</td>\n",
       "      <td>1</td>\n",
       "    </tr>\n",
       "    <tr>\n",
       "      <th>2</th>\n",
       "      <td>why do you cry so much over little things</td>\n",
       "      <td>1</td>\n",
       "    </tr>\n",
       "    <tr>\n",
       "      <th>3</th>\n",
       "      <td>as an adult how do you make more female friends</td>\n",
       "      <td>1</td>\n",
       "    </tr>\n",
       "    <tr>\n",
       "      <th>4</th>\n",
       "      <td>which 3rd party reddit app do you use and what...</td>\n",
       "      <td>1</td>\n",
       "    </tr>\n",
       "  </tbody>\n",
       "</table>\n",
       "</div>"
      ],
      "text/plain": [
       "                                               title  subreddit\n",
       "0  women of reddit when you are in a relationship...          1\n",
       "1                  do you have a hot take what is it          1\n",
       "2          why do you cry so much over little things          1\n",
       "3    as an adult how do you make more female friends          1\n",
       "4  which 3rd party reddit app do you use and what...          1"
      ]
     },
     "execution_count": 19,
     "metadata": {},
     "output_type": "execute_result"
    }
   ],
   "source": [
    "clean.head()"
   ]
  },
  {
   "cell_type": "code",
   "execution_count": 61,
   "id": "d54fe4d8",
   "metadata": {},
   "outputs": [],
   "source": [
    "clean.to_csv('../Data/cleaned.csv', index=False)"
   ]
  },
  {
   "cell_type": "code",
   "execution_count": null,
   "id": "24f34c6b",
   "metadata": {},
   "outputs": [],
   "source": [
    "#visualizations below"
   ]
  },
  {
   "cell_type": "code",
   "execution_count": 63,
   "id": "8a4abddb",
   "metadata": {},
   "outputs": [
    {
     "data": {
      "image/png": "[encoded data removed]",
      "text/plain": [
       "<Figure size 432x288 with 1 Axes>"
      ]
     },
     "metadata": {
      "needs_background": "light"
     },
     "output_type": "display_data"
    }
   ],
   "source": [
    "#histogram of word count in title\n",
    "\n",
    "sns.histplot(data=women, x='title_word_count', bins=30);\n",
    "plt.title('Word Count Distribution in AskWomen Reddit')\n",
    "plt.xlabel('Number of Words in Post Title')\n",
    "plt.ylabel('Frequency');"
   ]
  },
  {
   "cell_type": "code",
   "execution_count": 64,
   "id": "060f3368",
   "metadata": {},
   "outputs": [
    {
     "data": {
      "image/png": "[encoded data removed]",
      "text/plain": [
       "<Figure size 432x288 with 1 Axes>"
      ]
     },
     "metadata": {
      "needs_background": "light"
     },
     "output_type": "display_data"
    }
   ],
   "source": [
    "#histogram of word count in title\n",
    "\n",
    "sns.histplot(data=men, x='title_word_count', bins=30);\n",
    "plt.title('Word Count Distribution in AskMen Reddit')\n",
    "plt.xlabel('Number of Words in Post Title')\n",
    "plt.ylabel('Frequency');"
   ]
  },
  {
   "cell_type": "code",
   "execution_count": 20,
   "id": "8d150cd8",
   "metadata": {},
   "outputs": [
    {
     "data": {
      "image/png": "[encoded data removed]",
      "text/plain": [
       "<Figure size 432x288 with 1 Axes>"
      ]
     },
     "metadata": {
      "needs_background": "light"
     },
     "output_type": "display_data"
    }
   ],
   "source": [
    "#histogram of word count in title\n",
    "\n",
    "sns.histplot(data=df, x='title_word_count', bins=30);\n",
    "plt.title('Word Count Distribution in Subreddits')\n",
    "plt.xlabel('Number of Words in Post Title')\n",
    "plt.ylabel('Frequency');"
   ]
  },
  {
   "cell_type": "code",
   "execution_count": null,
   "id": "5fe2e5dd",
   "metadata": {},
   "outputs": [],
   "source": [
    "#word frequency distributions for women and men datasets"
   ]
  },
  {
   "cell_type": "code",
   "execution_count": 83,
   "id": "afe9dd38",
   "metadata": {},
   "outputs": [],
   "source": [
    "cvec = CountVectorizer(stop_words='english', max_features=1000)"
   ]
  },
  {
   "cell_type": "code",
   "execution_count": 84,
   "id": "f13fb9b7",
   "metadata": {},
   "outputs": [
    {
     "data": {
      "text/plain": [
       "CountVectorizer(max_features=1000, stop_words='english')"
      ]
     },
     "execution_count": 84,
     "metadata": {},
     "output_type": "execute_result"
    }
   ],
   "source": [
    "cvec.fit(women['title'])"
   ]
  },
  {
   "cell_type": "code",
   "execution_count": 85,
   "id": "cca66572",
   "metadata": {},
   "outputs": [],
   "source": [
    "transformed = cvec.transform(women['title'])"
   ]
  },
  {
   "cell_type": "code",
   "execution_count": 86,
   "id": "195f7a6e",
   "metadata": {},
   "outputs": [],
   "source": [
    "transformed_df = pd.DataFrame(transformed.todense(),\n",
    "                          columns = cvec.get_feature_names())"
   ]
  },
  {
   "cell_type": "code",
   "execution_count": 87,
   "id": "bdce6f53",
   "metadata": {},
   "outputs": [
    {
     "data": {
      "text/plain": [
       "women           9558\n",
       "did             5573\n",
       "like            3540\n",
       "feel            3057\n",
       "reddit          2599\n",
       "men             2535\n",
       "ladies          2281\n",
       "think           2131\n",
       "relationship    2070\n",
       "does            1942\n",
       "guy             1829\n",
       "man             1746\n",
       "life            1728\n",
       "partner         1716\n",
       "ve              1431\n",
       "make            1416\n",
       "woman           1357\n",
       "best            1342\n",
       "time            1342\n",
       "sex             1276\n",
       "dtype: int64"
      ]
     },
     "execution_count": 87,
     "metadata": {},
     "output_type": "execute_result"
    }
   ],
   "source": [
    "transformed_df.sum().sort_values(ascending=False).head(20)"
   ]
  },
  {
   "cell_type": "code",
   "execution_count": 91,
   "id": "a8d77e93",
   "metadata": {},
   "outputs": [
    {
     "data": {
      "image/png": "[encoded data removed]",
      "text/plain": [
       "<Figure size 432x288 with 1 Axes>"
      ]
     },
     "metadata": {
      "needs_background": "light"
     },
     "output_type": "display_data"
    }
   ],
   "source": [
    "transformed_df.sum().sort_values(ascending=False).head(15).plot(kind='barh',color='red');\n",
    "plt.title('Most Common Words in AskWomen Post Titles')\n",
    "plt.xlabel('Frequency')\n",
    "plt.ylabel('Word');"
   ]
  },
  {
   "cell_type": "code",
   "execution_count": 92,
   "id": "c1fec3bc",
   "metadata": {},
   "outputs": [],
   "source": [
    "cvec = CountVectorizer(stop_words='english', max_features=1000)"
   ]
  },
  {
   "cell_type": "code",
   "execution_count": 93,
   "id": "276151a6",
   "metadata": {},
   "outputs": [
    {
     "data": {
      "text/plain": [
       "CountVectorizer(max_features=1000, stop_words='english')"
      ]
     },
     "execution_count": 93,
     "metadata": {},
     "output_type": "execute_result"
    }
   ],
   "source": [
    "cvec.fit(men['title'])"
   ]
  },
  {
   "cell_type": "code",
   "execution_count": 94,
   "id": "d10a27a6",
   "metadata": {},
   "outputs": [],
   "source": [
    "transformed = cvec.transform(men['title'])"
   ]
  },
  {
   "cell_type": "code",
   "execution_count": 95,
   "id": "0dc3d3a1",
   "metadata": {},
   "outputs": [],
   "source": [
    "transformed_df = pd.DataFrame(transformed.todense(),\n",
    "                          columns = cvec.get_feature_names())"
   ]
  },
  {
   "cell_type": "code",
   "execution_count": 96,
   "id": "cf9bc9da",
   "metadata": {
    "scrolled": true
   },
   "outputs": [
    {
     "data": {
      "text/plain": [
       "men             9270\n",
       "did             3963\n",
       "like            3155\n",
       "reddit          3099\n",
       "guys            2833\n",
       "women           2408\n",
       "feel            2282\n",
       "girl            2135\n",
       "woman           2024\n",
       "life            1922\n",
       "does            1913\n",
       "think           1664\n",
       "relationship    1610\n",
       "time            1569\n",
       "man             1519\n",
       "know            1400\n",
       "make            1366\n",
       "sex             1366\n",
       "best            1362\n",
       "dating          1312\n",
       "dtype: int64"
      ]
     },
     "execution_count": 96,
     "metadata": {},
     "output_type": "execute_result"
    }
   ],
   "source": [
    "transformed_df.sum().sort_values(ascending=False).head(20)"
   ]
  },
  {
   "cell_type": "code",
   "execution_count": 97,
   "id": "3db35b92",
   "metadata": {
    "scrolled": true
   },
   "outputs": [
    {
     "data": {
      "image/png": "[encoded data removed]",
      "text/plain": [
       "<Figure size 432x288 with 1 Axes>"
      ]
     },
     "metadata": {
      "needs_background": "light"
     },
     "output_type": "display_data"
    }
   ],
   "source": [
    "transformed_df.sum().sort_values(ascending=False).head(15).plot(kind='barh');\n",
    "plt.title('Most Common Words in AskMen Post Titles')\n",
    "plt.xlabel('Frequency')\n",
    "plt.ylabel('Word');"
   ]
  },
  {
   "cell_type": "code",
   "execution_count": null,
   "id": "09ab70fe",
   "metadata": {},
   "outputs": [],
   "source": [
    "#word frequency distributionsfor full df"
   ]
  },
  {
   "cell_type": "code",
   "execution_count": 66,
   "id": "ec8f32d5",
   "metadata": {},
   "outputs": [],
   "source": [
    "cvec = CountVectorizer(stop_words='english', max_features=1000)"
   ]
  },
  {
   "cell_type": "code",
   "execution_count": 67,
   "id": "f3147309",
   "metadata": {},
   "outputs": [
    {
     "data": {
      "text/plain": [
       "CountVectorizer(max_features=1000, stop_words='english')"
      ]
     },
     "execution_count": 67,
     "metadata": {},
     "output_type": "execute_result"
    }
   ],
   "source": [
    "cvec.fit(df['title'])"
   ]
  },
  {
   "cell_type": "code",
   "execution_count": 68,
   "id": "8261f2c1",
   "metadata": {},
   "outputs": [],
   "source": [
    "transformed = cvec.transform(df['title'])"
   ]
  },
  {
   "cell_type": "code",
   "execution_count": 69,
   "id": "420cefe5",
   "metadata": {},
   "outputs": [],
   "source": [
    "transformed_df = pd.DataFrame(transformed.todense(),\n",
    "                          columns = cvec.get_feature_names())"
   ]
  },
  {
   "cell_type": "code",
   "execution_count": 70,
   "id": "62bd1c8d",
   "metadata": {},
   "outputs": [
    {
     "data": {
      "text/plain": [
       "women           11966\n",
       "men             11805\n",
       "did              9536\n",
       "like             6695\n",
       "reddit           5698\n",
       "feel             5339\n",
       "guys             3889\n",
       "does             3855\n",
       "think            3795\n",
       "relationship     3680\n",
       "life             3650\n",
       "woman            3381\n",
       "man              3265\n",
       "guy              3029\n",
       "time             2911\n",
       "girl             2859\n",
       "partner          2824\n",
       "make             2782\n",
       "best             2704\n",
       "ve               2685\n",
       "dtype: int64"
      ]
     },
     "execution_count": 70,
     "metadata": {},
     "output_type": "execute_result"
    }
   ],
   "source": [
    "transformed_df.sum().sort_values(ascending=False).head(20)"
   ]
  },
  {
   "cell_type": "code",
   "execution_count": 71,
   "id": "096f5b8e",
   "metadata": {},
   "outputs": [
    {
     "data": {
      "image/png": "[encoded data removed]",
      "text/plain": [
       "<Figure size 432x288 with 1 Axes>"
      ]
     },
     "metadata": {
      "needs_background": "light"
     },
     "output_type": "display_data"
    }
   ],
   "source": [
    "transformed_df.sum().sort_values(ascending=False).head(10).plot(kind='barh');\n",
    "plt.title('Most Common Words in Post Titles')\n",
    "plt.xlabel('Frequency')\n",
    "plt.ylabel('Word');"
   ]
  },
  {
   "cell_type": "code",
   "execution_count": 74,
   "id": "3c09aa56",
   "metadata": {},
   "outputs": [],
   "source": [
    "#try custom stop words\n",
    "\n",
    "stop_words =['men', 'women', 'reddit', 'guy', 'guys', 'woman', 'man', 'girl', 'girls', 'ladies', 'like', 'just' ,'ve']"
   ]
  },
  {
   "cell_type": "code",
   "execution_count": 75,
   "id": "615d884e",
   "metadata": {},
   "outputs": [],
   "source": [
    "stop_english = stopwords.words('english')"
   ]
  },
  {
   "cell_type": "code",
   "execution_count": 76,
   "id": "6656bdeb",
   "metadata": {},
   "outputs": [],
   "source": [
    "stop = stop_words + stop_english\n",
    "\n",
    "#got the idea to combine my stop words with english stopwords here\n",
    "#https://stackoverflow.com/questions/26826002/adding-words-to-stop-words-list-in-tfidfvectorizer-in-sklearn"
   ]
  },
  {
   "cell_type": "code",
   "execution_count": 78,
   "id": "47ea166e",
   "metadata": {},
   "outputs": [],
   "source": [
    "cvec = CountVectorizer(stop_words=stop, max_features=1000)"
   ]
  },
  {
   "cell_type": "code",
   "execution_count": 79,
   "id": "27e129f6",
   "metadata": {},
   "outputs": [
    {
     "data": {
      "text/plain": [
       "CountVectorizer(max_features=1000,\n",
       "                stop_words=['men', 'women', 'reddit', 'guy', 'guys', 'woman',\n",
       "                            'man', 'girl', 'girls', 'ladies', 'like', 'just',\n",
       "                            've', 'i', 'me', 'my', 'myself', 'we', 'our',\n",
       "                            'ours', 'ourselves', 'you', \"you're\", \"you've\",\n",
       "                            \"you'll\", \"you'd\", 'your', 'yours', 'yourself',\n",
       "                            'yourselves', ...])"
      ]
     },
     "execution_count": 79,
     "metadata": {},
     "output_type": "execute_result"
    }
   ],
   "source": [
    "cvec.fit(df['title'])"
   ]
  },
  {
   "cell_type": "code",
   "execution_count": 80,
   "id": "0f4c3084",
   "metadata": {},
   "outputs": [],
   "source": [
    "transformed = cvec.transform(df['title'])"
   ]
  },
  {
   "cell_type": "code",
   "execution_count": 81,
   "id": "518d0a4c",
   "metadata": {},
   "outputs": [],
   "source": [
    "transformed_df = pd.DataFrame(transformed.todense(),\n",
    "                          columns = cvec.get_feature_names())"
   ]
  },
  {
   "cell_type": "code",
   "execution_count": 474,
   "id": "5ce74fbf",
   "metadata": {
    "scrolled": true
   },
   "outputs": [
    {
     "data": {
      "text/plain": [
       "would           31290\n",
       "feel            22060\n",
       "get             20518\n",
       "ever            16494\n",
       "think           15086\n",
       "someone         14915\n",
       "relationship    14463\n",
       "sex             14214\n",
       "life            11839\n",
       "know            11440\n",
       "time            10861\n",
       "want            10517\n",
       "make            10415\n",
       "one             10344\n",
       "best            10140\n",
       "partner         10007\n",
       "dating           9925\n",
       "friend           9560\n",
       "friends          9278\n",
       "deal             8961\n",
       "dtype: int64"
      ]
     },
     "execution_count": 474,
     "metadata": {},
     "output_type": "execute_result"
    }
   ],
   "source": [
    "transformed_df.sum().sort_values(ascending=False).head(20)"
   ]
  },
  {
   "cell_type": "code",
   "execution_count": 82,
   "id": "faaf6dfc",
   "metadata": {
    "scrolled": true
   },
   "outputs": [
    {
     "data": {
      "image/png": "[encoded data removed]",
      "text/plain": [
       "<Figure size 432x288 with 1 Axes>"
      ]
     },
     "metadata": {
      "needs_background": "light"
     },
     "output_type": "display_data"
    }
   ],
   "source": [
    "transformed_df.sum().sort_values(ascending=False).head(10).plot(kind='barh');\n",
    "plt.title('Most Common Words in Post Titles')\n",
    "plt.xlabel('Frequency')\n",
    "plt.ylabel('Word');"
   ]
  },
  {
   "cell_type": "code",
   "execution_count": null,
   "id": "42e6bac3",
   "metadata": {},
   "outputs": [],
   "source": [
    "#try only on men's and womens dfs"
   ]
  },
  {
   "cell_type": "code",
   "execution_count": 98,
   "id": "59f9f6be",
   "metadata": {},
   "outputs": [],
   "source": [
    "cvec = CountVectorizer(stop_words=stop, max_features=1000)"
   ]
  },
  {
   "cell_type": "code",
   "execution_count": 99,
   "id": "e52726d4",
   "metadata": {},
   "outputs": [
    {
     "data": {
      "text/plain": [
       "CountVectorizer(max_features=1000,\n",
       "                stop_words=['men', 'women', 'reddit', 'guy', 'guys', 'woman',\n",
       "                            'man', 'girl', 'girls', 'ladies', 'like', 'just',\n",
       "                            've', 'i', 'me', 'my', 'myself', 'we', 'our',\n",
       "                            'ours', 'ourselves', 'you', \"you're\", \"you've\",\n",
       "                            \"you'll\", \"you'd\", 'your', 'yours', 'yourself',\n",
       "                            'yourselves', ...])"
      ]
     },
     "execution_count": 99,
     "metadata": {},
     "output_type": "execute_result"
    }
   ],
   "source": [
    "cvec.fit(women['title'])"
   ]
  },
  {
   "cell_type": "code",
   "execution_count": 100,
   "id": "a8330086",
   "metadata": {},
   "outputs": [],
   "source": [
    "transformed = cvec.transform(women['title'])"
   ]
  },
  {
   "cell_type": "code",
   "execution_count": 101,
   "id": "6e7d14d9",
   "metadata": {},
   "outputs": [],
   "source": [
    "transformed_df = pd.DataFrame(transformed.todense(),\n",
    "                          columns = cvec.get_feature_names())"
   ]
  },
  {
   "cell_type": "code",
   "execution_count": 102,
   "id": "cf3b5336",
   "metadata": {},
   "outputs": [
    {
     "data": {
      "text/plain": [
       "would           4035\n",
       "feel            3057\n",
       "ever            2364\n",
       "someone         2225\n",
       "get             2153\n",
       "think           2131\n",
       "relationship    2070\n",
       "life            1728\n",
       "partner         1716\n",
       "make            1416\n",
       "one             1357\n",
       "time            1342\n",
       "best            1342\n",
       "sex             1276\n",
       "deal            1228\n",
       "thing           1216\n",
       "people          1214\n",
       "something       1212\n",
       "love            1208\n",
       "dating          1200\n",
       "dtype: int64"
      ]
     },
     "execution_count": 102,
     "metadata": {},
     "output_type": "execute_result"
    }
   ],
   "source": [
    "transformed_df.sum().sort_values(ascending=False).head(20)"
   ]
  },
  {
   "cell_type": "code",
   "execution_count": 103,
   "id": "57e2eb7e",
   "metadata": {},
   "outputs": [
    {
     "data": {
      "image/png": "[encoded data removed]",
      "text/plain": [
       "<Figure size 432x288 with 1 Axes>"
      ]
     },
     "metadata": {
      "needs_background": "light"
     },
     "output_type": "display_data"
    }
   ],
   "source": [
    "transformed_df.sum().sort_values(ascending=False).head(15).plot(kind='barh', color='red');\n",
    "plt.title('Most Common Words in AskWomen Post Titles')\n",
    "plt.xlabel('Frequency')\n",
    "plt.ylabel('Word');"
   ]
  },
  {
   "cell_type": "code",
   "execution_count": 104,
   "id": "ebc6a5ab",
   "metadata": {},
   "outputs": [],
   "source": [
    "#ask men with custom stop\n",
    "\n",
    "cvec = CountVectorizer(stop_words=stop, max_features=1000)"
   ]
  },
  {
   "cell_type": "code",
   "execution_count": 105,
   "id": "fa8a6e87",
   "metadata": {},
   "outputs": [
    {
     "data": {
      "text/plain": [
       "CountVectorizer(max_features=1000,\n",
       "                stop_words=['men', 'women', 'reddit', 'guy', 'guys', 'woman',\n",
       "                            'man', 'girl', 'girls', 'ladies', 'like', 'just',\n",
       "                            've', 'i', 'me', 'my', 'myself', 'we', 'our',\n",
       "                            'ours', 'ourselves', 'you', \"you're\", \"you've\",\n",
       "                            \"you'll\", \"you'd\", 'your', 'yours', 'yourself',\n",
       "                            'yourselves', ...])"
      ]
     },
     "execution_count": 105,
     "metadata": {},
     "output_type": "execute_result"
    }
   ],
   "source": [
    "cvec.fit(men['title'])"
   ]
  },
  {
   "cell_type": "code",
   "execution_count": 106,
   "id": "dcaba5fa",
   "metadata": {},
   "outputs": [],
   "source": [
    "transformed = cvec.transform(men['title'])"
   ]
  },
  {
   "cell_type": "code",
   "execution_count": 107,
   "id": "1522e437",
   "metadata": {},
   "outputs": [],
   "source": [
    "transformed_df = pd.DataFrame(transformed.todense(),\n",
    "                          columns = cvec.get_feature_names())"
   ]
  },
  {
   "cell_type": "code",
   "execution_count": 108,
   "id": "fca8a592",
   "metadata": {},
   "outputs": [
    {
     "data": {
      "text/plain": [
       "would           3959\n",
       "get             2643\n",
       "feel            2282\n",
       "life            1922\n",
       "someone         1848\n",
       "ever            1755\n",
       "think           1664\n",
       "relationship    1610\n",
       "time            1569\n",
       "one             1544\n",
       "know            1400\n",
       "sex             1366\n",
       "make            1366\n",
       "best            1362\n",
       "dating          1312\n",
       "deal            1282\n",
       "people          1264\n",
       "friends         1215\n",
       "want            1200\n",
       "thing           1170\n",
       "dtype: int64"
      ]
     },
     "execution_count": 108,
     "metadata": {},
     "output_type": "execute_result"
    }
   ],
   "source": [
    "transformed_df.sum().sort_values(ascending=False).head(20)"
   ]
  },
  {
   "cell_type": "code",
   "execution_count": 109,
   "id": "95268015",
   "metadata": {},
   "outputs": [
    {
     "data": {
      "image/png": "[encoded data removed]",
      "text/plain": [
       "<Figure size 432x288 with 1 Axes>"
      ]
     },
     "metadata": {
      "needs_background": "light"
     },
     "output_type": "display_data"
    }
   ],
   "source": [
    "transformed_df.sum().sort_values(ascending=False).head(15).plot(kind='barh');\n",
    "plt.title('Most Common Words in AskMen Post Titles')\n",
    "plt.xlabel('Frequency')\n",
    "plt.ylabel('Word');"
   ]
  },
  {
   "cell_type": "code",
   "execution_count": 83,
   "id": "7406279c",
   "metadata": {},
   "outputs": [],
   "source": [
    "#try with bigram\n",
    "\n",
    "cvec = CountVectorizer(stop_words='english', ngram_range=(2,2), max_features=1000)"
   ]
  },
  {
   "cell_type": "code",
   "execution_count": 84,
   "id": "dc84c473",
   "metadata": {},
   "outputs": [
    {
     "data": {
      "text/plain": [
       "CountVectorizer(max_features=1000, ngram_range=(2, 2), stop_words='english')"
      ]
     },
     "execution_count": 84,
     "metadata": {},
     "output_type": "execute_result"
    }
   ],
   "source": [
    "cvec.fit(df['title'])"
   ]
  },
  {
   "cell_type": "code",
   "execution_count": 85,
   "id": "63758936",
   "metadata": {},
   "outputs": [],
   "source": [
    "transformed_bigram = cvec.transform(df['title'])"
   ]
  },
  {
   "cell_type": "code",
   "execution_count": 86,
   "id": "06cd7a57",
   "metadata": {},
   "outputs": [],
   "source": [
    "transformed_bigram_df = pd.DataFrame(transformed_bigram.todense(),\n",
    "                          columns = cvec.get_feature_names())"
   ]
  },
  {
   "cell_type": "code",
   "execution_count": 87,
   "id": "05c1822f",
   "metadata": {},
   "outputs": [
    {
     "data": {
      "text/plain": [
       "men reddit       2641\n",
       "women reddit     1989\n",
       "feel like         769\n",
       "long term         398\n",
       "does mean         387\n",
       "best way          386\n",
       "make feel         374\n",
       "social media      364\n",
       "best friend       358\n",
       "thing ve          325\n",
       "year old          312\n",
       "reddit did        304\n",
       "look like         281\n",
       "did realize       278\n",
       "does feel         277\n",
       "did learn         274\n",
       "did feel          270\n",
       "did deal          245\n",
       "long did          243\n",
       "ladies reddit     243\n",
       "dtype: int64"
      ]
     },
     "execution_count": 87,
     "metadata": {},
     "output_type": "execute_result"
    }
   ],
   "source": [
    "transformed_bigram_df.sum().sort_values(ascending=False).head(20)"
   ]
  },
  {
   "cell_type": "code",
   "execution_count": 88,
   "id": "157181ed",
   "metadata": {},
   "outputs": [],
   "source": [
    "#try with trigram\n",
    "\n",
    "cvec = CountVectorizer(stop_words='english', ngram_range=(3,3), max_features=1000)"
   ]
  },
  {
   "cell_type": "code",
   "execution_count": 89,
   "id": "8a4968bd",
   "metadata": {},
   "outputs": [
    {
     "data": {
      "text/plain": [
       "CountVectorizer(max_features=1000, ngram_range=(3, 3), stop_words='english')"
      ]
     },
     "execution_count": 89,
     "metadata": {},
     "output_type": "execute_result"
    }
   ],
   "source": [
    "cvec.fit(df['title'])"
   ]
  },
  {
   "cell_type": "code",
   "execution_count": 90,
   "id": "2de7b535",
   "metadata": {},
   "outputs": [],
   "source": [
    "transformed_trigram = cvec.transform(df['title'])"
   ]
  },
  {
   "cell_type": "code",
   "execution_count": 91,
   "id": "754799d7",
   "metadata": {},
   "outputs": [],
   "source": [
    "transformed_trigram_df = pd.DataFrame(transformed_trigram.todense(),\n",
    "                          columns = cvec.get_feature_names())"
   ]
  },
  {
   "cell_type": "code",
   "execution_count": 92,
   "id": "85439c2a",
   "metadata": {},
   "outputs": [
    {
     "data": {
      "text/plain": [
       "men reddit did             139\n",
       "long term relationship     134\n",
       "women reddit did           114\n",
       "does feel like             114\n",
       "does make feel              90\n",
       "women reddit feel           87\n",
       "long term relationships     77\n",
       "men reddit feel             74\n",
       "women reddit think          70\n",
       "fellow men reddit           69\n",
       "men reddit does             69\n",
       "low self esteem             61\n",
       "did make feel               53\n",
       "post nut clarity            52\n",
       "men reddit deal             52\n",
       "18 year old                 49\n",
       "did feel like               49\n",
       "dear men reddit             45\n",
       "men reddit think            44\n",
       "dear women reddit           43\n",
       "dtype: int64"
      ]
     },
     "execution_count": 92,
     "metadata": {},
     "output_type": "execute_result"
    }
   ],
   "source": [
    "transformed_trigram_df.sum().sort_values(ascending=False).head(20)"
   ]
  },
  {
   "cell_type": "code",
   "execution_count": 93,
   "id": "b29827c1",
   "metadata": {},
   "outputs": [],
   "source": [
    "#try tvec"
   ]
  },
  {
   "cell_type": "code",
   "execution_count": 94,
   "id": "12f2d2a3",
   "metadata": {},
   "outputs": [],
   "source": [
    "tvec = TfidfVectorizer(stop_words='english', max_features=1000)"
   ]
  },
  {
   "cell_type": "code",
   "execution_count": 95,
   "id": "a52a906e",
   "metadata": {},
   "outputs": [
    {
     "data": {
      "text/plain": [
       "TfidfVectorizer(max_features=1000, stop_words='english')"
      ]
     },
     "execution_count": 95,
     "metadata": {},
     "output_type": "execute_result"
    }
   ],
   "source": [
    "tvec.fit(df['title'])"
   ]
  },
  {
   "cell_type": "code",
   "execution_count": 96,
   "id": "e444e1e1",
   "metadata": {},
   "outputs": [],
   "source": [
    "transformed = tvec.transform(df['title'])"
   ]
  },
  {
   "cell_type": "code",
   "execution_count": 97,
   "id": "13e620bc",
   "metadata": {},
   "outputs": [],
   "source": [
    "transformed_df = pd.DataFrame(transformed.todense(),\n",
    "                          columns = tvec.get_feature_names())"
   ]
  },
  {
   "cell_type": "code",
   "execution_count": 98,
   "id": "f02a4d0d",
   "metadata": {},
   "outputs": [
    {
     "data": {
      "text/plain": [
       "men             3286.348536\n",
       "women           3276.986881\n",
       "did             2683.277082\n",
       "like            2181.804160\n",
       "reddit          1841.037882\n",
       "feel            1838.707411\n",
       "think           1512.804043\n",
       "guys            1406.314209\n",
       "does            1349.174058\n",
       "life            1298.688202\n",
       "relationship    1297.978335\n",
       "woman           1255.948616\n",
       "man             1245.140683\n",
       "guy             1123.781252\n",
       "time            1109.883374\n",
       "best            1102.834039\n",
       "deal            1098.158460\n",
       "girl            1061.818190\n",
       "partner         1047.386746\n",
       "thing           1035.699490\n",
       "dtype: float64"
      ]
     },
     "execution_count": 98,
     "metadata": {},
     "output_type": "execute_result"
    }
   ],
   "source": [
    "transformed_df.sum().sort_values(ascending=False).head(20)"
   ]
  },
  {
   "cell_type": "code",
   "execution_count": 99,
   "id": "58b5d266",
   "metadata": {
    "scrolled": true
   },
   "outputs": [
    {
     "data": {
      "image/png": "[encoded data removed]",
      "text/plain": [
       "<Figure size 432x288 with 1 Axes>"
      ]
     },
     "metadata": {
      "needs_background": "light"
     },
     "output_type": "display_data"
    }
   ],
   "source": [
    "transformed_df.sum().sort_values(ascending=False).head(10).plot(kind='barh');\n",
    "plt.title('Most Common Words in Post Titles')\n",
    "plt.xlabel('Frequency')\n",
    "plt.ylabel('Word');"
   ]
  },
  {
   "cell_type": "code",
   "execution_count": 100,
   "id": "865c024b",
   "metadata": {},
   "outputs": [],
   "source": [
    "#try with stop words\n",
    "\n",
    "tvec = TfidfVectorizer(stop_words=stop, max_features=1000)"
   ]
  },
  {
   "cell_type": "code",
   "execution_count": 101,
   "id": "a1095807",
   "metadata": {},
   "outputs": [
    {
     "data": {
      "text/plain": [
       "TfidfVectorizer(max_features=1000,\n",
       "                stop_words=['men', 'women', 'reddit', 'guy', 'guys', 'woman',\n",
       "                            'man', 'girl', 'girls', 'ladies', 'like', 'just',\n",
       "                            've', 'i', 'me', 'my', 'myself', 'we', 'our',\n",
       "                            'ours', 'ourselves', 'you', \"you're\", \"you've\",\n",
       "                            \"you'll\", \"you'd\", 'your', 'yours', 'yourself',\n",
       "                            'yourselves', ...])"
      ]
     },
     "execution_count": 101,
     "metadata": {},
     "output_type": "execute_result"
    }
   ],
   "source": [
    "tvec.fit(df['title'])"
   ]
  },
  {
   "cell_type": "code",
   "execution_count": 102,
   "id": "23c146d8",
   "metadata": {},
   "outputs": [],
   "source": [
    "transformed = tvec.transform(df['title'])"
   ]
  },
  {
   "cell_type": "code",
   "execution_count": 103,
   "id": "02eac6ab",
   "metadata": {},
   "outputs": [],
   "source": [
    "transformed_df = pd.DataFrame(transformed.todense(),\n",
    "                          columns = tvec.get_feature_names())"
   ]
  },
  {
   "cell_type": "code",
   "execution_count": 104,
   "id": "834739ab",
   "metadata": {
    "scrolled": true
   },
   "outputs": [
    {
     "data": {
      "text/plain": [
       "would           2297.940414\n",
       "feel            1900.775400\n",
       "get             1707.060830\n",
       "think           1566.052738\n",
       "ever            1420.964858\n",
       "someone         1337.853265\n",
       "relationship    1276.638003\n",
       "life            1274.925782\n",
       "deal            1119.047856\n",
       "best            1102.358719\n",
       "sex             1041.803643\n",
       "time            1040.679896\n",
       "make            1028.024751\n",
       "partner         1023.397169\n",
       "one             1013.259789\n",
       "thing           1008.098236\n",
       "dating           945.991913\n",
       "something        909.199355\n",
       "people           908.362612\n",
       "love             895.420619\n",
       "dtype: float64"
      ]
     },
     "execution_count": 104,
     "metadata": {},
     "output_type": "execute_result"
    }
   ],
   "source": [
    "transformed_df.sum().sort_values(ascending=False).head(20)"
   ]
  },
  {
   "cell_type": "code",
   "execution_count": 105,
   "id": "14d7641f",
   "metadata": {},
   "outputs": [
    {
     "data": {
      "image/png": "[encoded data removed]",
      "text/plain": [
       "<Figure size 432x288 with 1 Axes>"
      ]
     },
     "metadata": {
      "needs_background": "light"
     },
     "output_type": "display_data"
    }
   ],
   "source": [
    "transformed_df.sum().sort_values(ascending=False).head(10).plot(kind='barh');\n",
    "plt.title('Most Common Words in Post Titles')\n",
    "plt.xlabel('Frequency')\n",
    "plt.ylabel('Word');"
   ]
  },
  {
   "cell_type": "code",
   "execution_count": 106,
   "id": "70c4e881",
   "metadata": {},
   "outputs": [],
   "source": [
    "#try with bigram\n",
    "\n",
    "tvec = TfidfVectorizer(stop_words='english', ngram_range=(2,2), max_features=1000)"
   ]
  },
  {
   "cell_type": "code",
   "execution_count": 107,
   "id": "cad5a733",
   "metadata": {},
   "outputs": [
    {
     "data": {
      "text/plain": [
       "TfidfVectorizer(max_features=1000, ngram_range=(2, 2), stop_words='english')"
      ]
     },
     "execution_count": 107,
     "metadata": {},
     "output_type": "execute_result"
    }
   ],
   "source": [
    "tvec.fit(df['title'])"
   ]
  },
  {
   "cell_type": "code",
   "execution_count": 108,
   "id": "abbc0ee7",
   "metadata": {},
   "outputs": [],
   "source": [
    "transformed_bigram = tvec.transform(df['title'])"
   ]
  },
  {
   "cell_type": "code",
   "execution_count": 109,
   "id": "73da2276",
   "metadata": {},
   "outputs": [],
   "source": [
    "transformed_bigram_df = pd.DataFrame(transformed_bigram.todense(),\n",
    "                          columns = tvec.get_feature_names())"
   ]
  },
  {
   "cell_type": "code",
   "execution_count": 110,
   "id": "2d8b9653",
   "metadata": {},
   "outputs": [
    {
     "data": {
      "text/plain": [
       "men reddit       1727.841690\n",
       "women reddit     1299.450051\n",
       "feel like         514.597130\n",
       "best way          314.236399\n",
       "does mean         305.231970\n",
       "social media      303.383478\n",
       "best friend       273.931776\n",
       "long term         241.334859\n",
       "thing ve          233.081119\n",
       "make feel         229.697192\n",
       "look like         226.421924\n",
       "did learn         213.988274\n",
       "did realize       212.360292\n",
       "does feel         202.805254\n",
       "year old          199.864839\n",
       "reddit did        190.643667\n",
       "did feel          189.894853\n",
       "don know          185.688093\n",
       "did deal          184.781638\n",
       "ladies reddit     178.305371\n",
       "dtype: float64"
      ]
     },
     "execution_count": 110,
     "metadata": {},
     "output_type": "execute_result"
    }
   ],
   "source": [
    "transformed_bigram_df.sum().sort_values(ascending=False).head(20)"
   ]
  },
  {
   "cell_type": "code",
   "execution_count": 111,
   "id": "c2919a4d",
   "metadata": {},
   "outputs": [
    {
     "data": {
      "image/png": "[encoded data removed]",
      "text/plain": [
       "<Figure size 432x288 with 1 Axes>"
      ]
     },
     "metadata": {
      "needs_background": "light"
     },
     "output_type": "display_data"
    }
   ],
   "source": [
    "transformed_bigram_df.sum().sort_values(ascending=False).head(10).plot(kind='barh');\n",
    "plt.title('Most Common Bigram Words in Post Titles')\n",
    "plt.xlabel('Frequency')\n",
    "plt.ylabel('Word');"
   ]
  }
 ],
 "metadata": {
  "kernelspec": {
   "display_name": "Python 3",
   "language": "python",
   "name": "python3"
  },
  "language_info": {
   "codemirror_mode": {
    "name": "ipython",
    "version": 3
   },
   "file_extension": ".py",
   "mimetype": "text/x-python",
   "name": "python",
   "nbconvert_exporter": "python",
   "pygments_lexer": "ipython3",
   "version": "3.8.8"
  }
 },
 "nbformat": 4,
 "nbformat_minor": 5
}

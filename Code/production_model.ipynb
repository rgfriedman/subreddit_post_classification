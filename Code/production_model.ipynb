{
 "cells": [
  {
   "cell_type": "code",
   "execution_count": 2,
   "id": "0f9e1cf6",
   "metadata": {},
   "outputs": [],
   "source": [
    "#imports\n",
    "\n",
    "import pandas as pd\n",
    "import numpy as np\n",
    "import matplotlib.pyplot as plt\n",
    "\n",
    "from sklearn.feature_extraction.text import CountVectorizer\n",
    "from sklearn.model_selection import train_test_split\n",
    "from sklearn.naive_bayes import BernoulliNB\n",
    "from sklearn.metrics import confusion_matrix, ConfusionMatrixDisplay, accuracy_score"
   ]
  },
  {
   "cell_type": "code",
   "execution_count": 3,
   "id": "b7b0c462",
   "metadata": {},
   "outputs": [
    {
     "data": {
      "text/html": [
       "<div>\n",
       "<style scoped>\n",
       "    .dataframe tbody tr th:only-of-type {\n",
       "        vertical-align: middle;\n",
       "    }\n",
       "\n",
       "    .dataframe tbody tr th {\n",
       "        vertical-align: top;\n",
       "    }\n",
       "\n",
       "    .dataframe thead th {\n",
       "        text-align: right;\n",
       "    }\n",
       "</style>\n",
       "<table border=\"1\" class=\"dataframe\">\n",
       "  <thead>\n",
       "    <tr style=\"text-align: right;\">\n",
       "      <th></th>\n",
       "      <th>title</th>\n",
       "      <th>subreddit</th>\n",
       "    </tr>\n",
       "  </thead>\n",
       "  <tbody>\n",
       "    <tr>\n",
       "      <th>0</th>\n",
       "      <td>women of reddit when you are in a relationship...</td>\n",
       "      <td>1</td>\n",
       "    </tr>\n",
       "    <tr>\n",
       "      <th>1</th>\n",
       "      <td>do you have a hot take what is it</td>\n",
       "      <td>1</td>\n",
       "    </tr>\n",
       "    <tr>\n",
       "      <th>2</th>\n",
       "      <td>why do you cry so much over little things</td>\n",
       "      <td>1</td>\n",
       "    </tr>\n",
       "    <tr>\n",
       "      <th>3</th>\n",
       "      <td>as an adult how do you make more female friends</td>\n",
       "      <td>1</td>\n",
       "    </tr>\n",
       "    <tr>\n",
       "      <th>4</th>\n",
       "      <td>which 3rd party reddit app do you use and what...</td>\n",
       "      <td>1</td>\n",
       "    </tr>\n",
       "  </tbody>\n",
       "</table>\n",
       "</div>"
      ],
      "text/plain": [
       "                                               title  subreddit\n",
       "0  women of reddit when you are in a relationship...          1\n",
       "1                  do you have a hot take what is it          1\n",
       "2          why do you cry so much over little things          1\n",
       "3    as an adult how do you make more female friends          1\n",
       "4  which 3rd party reddit app do you use and what...          1"
      ]
     },
     "execution_count": 3,
     "metadata": {},
     "output_type": "execute_result"
    }
   ],
   "source": [
    "#read in cleaned data\n",
    "\n",
    "df = pd.read_csv('../Data/cleaned.csv')\n",
    "\n",
    "df.head()"
   ]
  },
  {
   "cell_type": "code",
   "execution_count": 7,
   "id": "4be17142",
   "metadata": {},
   "outputs": [],
   "source": [
    "def production_function(df):\n",
    "    \n",
    "    #show baseline score\n",
    "\n",
    "    print('baseline score is:')\n",
    "    print(df['subreddit'].value_counts(normalize=True))\n",
    "    print('~~~~~~~~~~~~~~~~~')\n",
    "    \n",
    "    #set variables for modeling\n",
    "\n",
    "    X = df['title']\n",
    "\n",
    "    y = df['subreddit']\n",
    "\n",
    "    #train test split for model evaluation\n",
    "\n",
    "    X_train, X_test, y_train, y_test = train_test_split(X, y, stratify=y)\n",
    "    \n",
    "    #instantiate cvec with best params from testing\n",
    "\n",
    "    cvec = CountVectorizer(max_features = 10_000, ngram_range = (1, 2))\n",
    "    \n",
    "    #apply cvec to training and testing\n",
    "\n",
    "    X_train = cvec.fit_transform(X_train)\n",
    "\n",
    "    X_test = cvec.transform(X_test)\n",
    "\n",
    "    #instantiate naive bayes\n",
    "    \n",
    "    nb = BernoulliNB()\n",
    "    \n",
    "    #fit model on training\n",
    "\n",
    "    nb.fit(X_train, y_train)\n",
    "    \n",
    "    #print training and test scores\n",
    "\n",
    "    print(f'training score:  {nb.score(X_train, y_train)}')\n",
    "\n",
    "    print(f'testing score: {nb.score(X_test, y_test)}')\n",
    "    \n",
    "    print('~~~~~~~~~~~~~~~~~')\n",
    "    \n",
    "    #make predictions\n",
    "\n",
    "    preds = nb.predict(X_test)\n",
    "\n",
    "    #generate confusion matrix\n",
    "    \n",
    "    cm = confusion_matrix(y_test, preds)\n",
    "    tn, fp, fn, tp = cm.ravel()\n",
    "\n",
    "    print('Confusion matrix:')\n",
    "    \n",
    "    ConfusionMatrixDisplay(cm).plot();\n",
    "\n",
    "    return"
   ]
  },
  {
   "cell_type": "code",
   "execution_count": 9,
   "id": "143c55e2",
   "metadata": {},
   "outputs": [
    {
     "name": "stdout",
     "output_type": "stream",
     "text": [
      "baseline score is:\n",
      "0    0.5\n",
      "1    0.5\n",
      "Name: subreddit, dtype: float64\n",
      "~~~~~~~~~~~~~~~~~\n",
      "training score:  0.751362962962963\n",
      "testing score: 0.7204444444444444\n",
      "~~~~~~~~~~~~~~~~~\n",
      "Confusion matrix:\n"
     ]
    },
    {
     "data": {
      "image/png": "[encoded data removed]",
      "text/plain": [
       "<Figure size 432x288 with 2 Axes>"
      ]
     },
     "metadata": {
      "needs_background": "light"
     },
     "output_type": "display_data"
    }
   ],
   "source": [
    "production_function(df)"
   ]
  },
  {
   "cell_type": "code",
   "execution_count": null,
   "id": "ef907bb8",
   "metadata": {},
   "outputs": [],
   "source": [
    "# The training and testing accuracy scores are the most similar for training and testing data. \n",
    "# This model performs the most similar on seen and unseen data which is why it was selected as the production model.\n",
    "# I used the best features from the gridsearch in the other notebook in the count vec instance. \n",
    "# A confusion matrix to show the true values vs predictions is below. "
   ]
  }
 ],
 "metadata": {
  "kernelspec": {
   "display_name": "Python 3",
   "language": "python",
   "name": "python3"
  },
  "language_info": {
   "codemirror_mode": {
    "name": "ipython",
    "version": 3
   },
   "file_extension": ".py",
   "mimetype": "text/x-python",
   "name": "python",
   "nbconvert_exporter": "python",
   "pygments_lexer": "ipython3",
   "version": "3.8.8"
  }
 },
 "nbformat": 4,
 "nbformat_minor": 5
}
